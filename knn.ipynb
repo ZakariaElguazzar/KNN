{
 "cells": [
  {
   "cell_type": "markdown",
   "id": "9adb7e07",
   "metadata": {},
   "source": [
    "# LAB 2.\n",
    "## Réalisé par : ELGUAZZAR Zakaria"
   ]
  },
  {
   "cell_type": "code",
   "execution_count": null,
   "id": "602ad1b3",
   "metadata": {},
   "outputs": [],
   "source": [
    "# Importing the necessary libraries\n",
    "import numpy as np\n",
    "import matplotlib.pyplot as plt\n",
    "import pandas as pd\n",
    "from sklearn.datasets import load_breast_cancer"
   ]
  },
  {
   "cell_type": "code",
   "execution_count": null,
   "id": "092ac26c",
   "metadata": {},
   "outputs": [],
   "source": [
    "# Load the dataset of\n",
    "data = load_breast_cancer()"
   ]
  }
 ],
 "metadata": {
  "kernelspec": {
   "display_name": "base",
   "language": "python",
   "name": "python3"
  },
  "language_info": {
   "codemirror_mode": {
    "name": "ipython",
    "version": 3
   },
   "file_extension": ".py",
   "mimetype": "text/x-python",
   "name": "python",
   "nbconvert_exporter": "python",
   "pygments_lexer": "ipython3",
   "version": "3.12.7"
  }
 },
 "nbformat": 4,
 "nbformat_minor": 5
}
